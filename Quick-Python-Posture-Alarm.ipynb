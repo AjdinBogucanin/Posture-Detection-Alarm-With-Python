{
 "cells": [
  {
   "cell_type": "code",
   "execution_count": 1,
   "metadata": {},
   "outputs": [],
   "source": [
    "import cv2\n",
    "import mediapipe as mp\n",
    "import time\n",
    "import math\n",
    "import threading\n",
    "import matplotlib.pyplot as plt\n",
    "import winsound"
   ]
  },
  {
   "cell_type": "code",
   "execution_count": null,
   "metadata": {},
   "outputs": [],
   "source": []
  },
  {
   "cell_type": "code",
   "execution_count": 2,
   "metadata": {},
   "outputs": [],
   "source": [
    "import winsound\n",
    "\n",
    "\n",
    "def playsound():\n",
    "    duration = 450  # milliseconds\n",
    "    freq = 110  # Hz\n",
    "    winsound.Beep(freq, duration)\n",
    "    freq = 220\n",
    "    winsound.Beep(freq, duration)\n",
    "    \n",
    "\n"
   ]
  },
  {
   "cell_type": "code",
   "execution_count": 3,
   "metadata": {},
   "outputs": [],
   "source": [
    "mpDraw = mp.solutions.drawing_utils\n",
    "mpPose = mp.solutions.pose\n",
    "\n",
    "pose = mpPose.Pose()\n",
    "cap = cv2.VideoCapture(0)"
   ]
  },
  {
   "cell_type": "code",
   "execution_count": 4,
   "metadata": {},
   "outputs": [],
   "source": [
    "#cap = cv2.VideoCapture(\"kurac.mp4\")\n"
   ]
  },
  {
   "cell_type": "code",
   "execution_count": 5,
   "metadata": {},
   "outputs": [],
   "source": [
    "frameCount = int(cap.get(cv2.CAP_PROP_FRAME_COUNT))"
   ]
  },
  {
   "cell_type": "code",
   "execution_count": 6,
   "metadata": {},
   "outputs": [],
   "source": [
    "%matplotlib inline"
   ]
  },
  {
   "cell_type": "code",
   "execution_count": 7,
   "metadata": {},
   "outputs": [],
   "source": [
    "def two_points_yMidpoint(x, y):\n",
    "    return ((x[1] + y[1])/2)"
   ]
  },
  {
   "cell_type": "code",
   "execution_count": 8,
   "metadata": {},
   "outputs": [],
   "source": [
    "shoulder_midpoint = 0\n",
    "shoulder_threshold = 0"
   ]
  },
  {
   "cell_type": "code",
   "execution_count": 9,
   "metadata": {},
   "outputs": [],
   "source": [
    "def distance_magnitude(x, y):\n",
    "    return (x[0] - y[0]) + (x[1] - y[1])"
   ]
  },
  {
   "cell_type": "code",
   "execution_count": 10,
   "metadata": {},
   "outputs": [],
   "source": [
    "def angle(landmark1, landmark2, landmark3):\n",
    "    \n",
    "    x1,y1, _ = landmark1\n",
    "    x2,y2, _ = landmark2\n",
    "    x3,y3, _ = landmark3\n",
    "    \n",
    "    angle = math.degrees(math.atan2(y3-y2, x3-x2) - math.atan2(y1-y2, x1-x2))\n",
    "    \n",
    "    if angle < 0:\n",
    "        angle += 360\n",
    "    \n",
    "    return angle"
   ]
  },
  {
   "cell_type": "code",
   "execution_count": 11,
   "metadata": {},
   "outputs": [],
   "source": [
    "def extract_landmarks(input_data, image):\n",
    "    iterable_data = []\n",
    "    height, width, _ = image.shape\n",
    "    \n",
    "    for landmark in input_data.landmark:\n",
    "        iterable_data.append(  (int(landmark.x * width), int(landmark.y * height), int(landmark.z *width) ) ) \n",
    "    return iterable_data"
   ]
  },
  {
   "cell_type": "code",
   "execution_count": 12,
   "metadata": {},
   "outputs": [],
   "source": [
    "def classify_pose(landmarks, output_image, display=False):\n",
    "    label = \"Poza je OK\"\n",
    "    color = (0,0,255)\n",
    "    global shoulder_midpoint\n",
    "    shoulder_midpoint = two_points_yMidpoint(landmarks[mpPose.PoseLandmark.RIGHT_SHOULDER.value], landmarks[mpPose.PoseLandmark.LEFT_SHOULDER.value])\n",
    "    #print(shoulder_midpoint)\n",
    "\n",
    "    if (shoulder_midpoint > shoulder_threshold):\n",
    "        label = \"kriva kicma\"\n",
    "        soundplayer = threading.Thread(target=playsound)\n",
    "        soundplayer.start()\n",
    "\n",
    "    if label == \"Poza je OK\":\n",
    "        color = (0,255,0)\n",
    "        \n",
    "    cv2.putText(output_image, label, (10,30), cv2.FONT_HERSHEY_PLAIN,2,color,2)"
   ]
  },
  {
   "cell_type": "code",
   "execution_count": null,
   "metadata": {},
   "outputs": [],
   "source": []
  },
  {
   "cell_type": "code",
   "execution_count": null,
   "metadata": {},
   "outputs": [],
   "source": []
  },
  {
   "cell_type": "code",
   "execution_count": null,
   "metadata": {
    "scrolled": false
   },
   "outputs": [
    {
     "name": "stdout",
     "output_type": "stream",
     "text": [
      "recorded\n",
      "recorded\n",
      "recorded\n",
      "recorded\n",
      "recorded\n",
      "recorded\n",
      "recorded\n",
      "recorded\n",
      "recorded\n",
      "recorded\n",
      "recorded\n",
      "recorded\n",
      "recorded\n",
      "recorded\n",
      "recorded\n",
      "recorded\n",
      "recorded\n",
      "recorded\n",
      "recorded\n",
      "recorded\n",
      "recorded\n",
      "recorded\n",
      "recorded\n",
      "recorded\n",
      "recorded\n"
     ]
    }
   ],
   "source": [
    "while True:\n",
    "    \n",
    "    success, img = cap.read()\n",
    "    \n",
    "    RGBimg = cv2.cvtColor(img, cv2.COLOR_BGR2RGB)\n",
    "    results = pose.process(RGBimg)\n",
    "    \n",
    "    #print(results.pose_landmarks)\n",
    "    if results.pose_landmarks:\n",
    "        mpDraw.draw_landmarks(img, results.pose_landmarks, mpPose.POSE_CONNECTIONS)\n",
    "        classify_pose(extract_landmarks(results.pose_landmarks, RGBimg), img)\n",
    "        #print(results.pose_landmarks[11])\n",
    "    \n",
    "    cv2.imshow(\"Image\", img)\n",
    "    \n",
    "    if cv2.waitKey(1) & 0xFF == ord('r'):\n",
    "            print(\"recorded\")\n",
    "            shoulder_threshold = shoulder_midpoint\n",
    "            \n",
    "            \n",
    "    if cv2.waitKey(1) & 0xFF == ord('q'):\n",
    "            break\n",
    "\n",
    "vid.release()\n",
    "# Destroy all the windows\n",
    "cv2.destroyAllWindows()"
   ]
  },
  {
   "cell_type": "code",
   "execution_count": null,
   "metadata": {},
   "outputs": [],
   "source": []
  },
  {
   "cell_type": "code",
   "execution_count": 48,
   "metadata": {},
   "outputs": [],
   "source": []
  },
  {
   "cell_type": "code",
   "execution_count": null,
   "metadata": {},
   "outputs": [],
   "source": []
  },
  {
   "cell_type": "code",
   "execution_count": null,
   "metadata": {},
   "outputs": [],
   "source": []
  },
  {
   "cell_type": "code",
   "execution_count": null,
   "metadata": {},
   "outputs": [],
   "source": []
  },
  {
   "cell_type": "code",
   "execution_count": null,
   "metadata": {},
   "outputs": [],
   "source": []
  },
  {
   "cell_type": "code",
   "execution_count": null,
   "metadata": {},
   "outputs": [],
   "source": []
  },
  {
   "cell_type": "code",
   "execution_count": null,
   "metadata": {},
   "outputs": [],
   "source": []
  }
 ],
 "metadata": {
  "kernelspec": {
   "display_name": "Python 3",
   "language": "python",
   "name": "python3"
  },
  "language_info": {
   "codemirror_mode": {
    "name": "ipython",
    "version": 3
   },
   "file_extension": ".py",
   "mimetype": "text/x-python",
   "name": "python",
   "nbconvert_exporter": "python",
   "pygments_lexer": "ipython3",
   "version": "3.8.5"
  }
 },
 "nbformat": 4,
 "nbformat_minor": 4
}
